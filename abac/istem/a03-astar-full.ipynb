{
 "cells": [
  {
   "cell_type": "markdown",
   "metadata": {},
   "source": [
    "https://www.geeksforgeeks.org/a-search-algorithm/\n",
    "\n",
    "and AI_russel book"
   ]
  },
  {
   "cell_type": "code",
   "execution_count": 41,
   "metadata": {},
   "outputs": [],
   "source": [
    "import numpy as np\n",
    "import heapq\n",
    "\n",
    "import os, subprocess, copy\n",
    "import seaborn as sns\n",
    "import matplotlib.pyplot as plt\n",
    "import matplotlib.animation as animation\n",
    "import matplotlib.patches as patches"
   ]
  },
  {
   "cell_type": "code",
   "execution_count": 101,
   "metadata": {},
   "outputs": [],
   "source": [
    "BOARD_SIZE = (15, 15)\n",
    "DIRECTION_MOVES = [(0,1), (0,-1), (-1,0), (1, 0)] # down, up, left, right\n",
    "MAX_ITER = 100\n",
    "\n",
    "XY_INITIAL = (0, 0)  # source coordinate\n",
    "XY_DEST = (3, 4)  # destination coordinate\n",
    "XY_WALLS = [(3, 3), (2, 4), (3, 5), (4, 5), (4, 2)]\n",
    "\n",
    "# F = init_cost_table(BOARD_SIZE, XY_WALLS)\n",
    "# sns.heatmap(F)"
   ]
  },
  {
   "cell_type": "code",
   "execution_count": 102,
   "metadata": {},
   "outputs": [],
   "source": [
    "def is_move_valid(xy, board_size, excluded_moves=None):\n",
    "    x, y = xy\n",
    "    v = True\n",
    "    if isinstance(excluded_moves, set):\n",
    "        v = not tuple(xy) in excluded_moves\n",
    "    return (\n",
    "        0 <= x\n",
    "        and 0 <= y\n",
    "        and x < board_size[0] \n",
    "        and y < board_size[1]\n",
    "        and v\n",
    "    )\n",
    "\n",
    "def init_cost_table(board_size, xy_walls=None):\n",
    "    F = np.zeros(board_size)\n",
    "    for x, y in xy_walls:\n",
    "        F[x, y] = np.inf\n",
    "    return F\n",
    "\n",
    "def get_neighbors(xy, direction_moves, excluded_moves):\n",
    "    neighbors = np.add(xy, direction_moves)\n",
    "    valid = [is_move_valid(move, BOARD_SIZE, excluded_moves) for move in neighbors]\n",
    "    neighbors = neighbors[valid]\n",
    "    return neighbors\n",
    "\n",
    "def update_cost_table(F, xys, xy_current, xy_dest):\n",
    "    actual_neighbors  = []\n",
    "    for xy in xys:\n",
    "        x, y = xy\n",
    "        G = 1\n",
    "        H = np.abs(x - xy_dest[0])  + np.abs(y - xy_dest[1])\n",
    "        if F[x, y] != np.inf: # if is not a wall\n",
    "            F[x, y] = 1 + H\n",
    "            heapq.heappush(actual_neighbors , (F[x,y], tuple(xy)))\n",
    "    return actual_neighbors "
   ]
  },
  {
   "cell_type": "code",
   "execution_count": 103,
   "metadata": {},
   "outputs": [],
   "source": [
    "# setup folder for video\n",
    "dir1 = \"./tmp/A-star_searching\"\n",
    "if not os.path.exists(dir1):\n",
    "    os.mkdir(dir1)\n",
    "    \n",
    "dir2 = \"./tmp/A-star_path_reconstructing\"\n",
    "if not os.path.exists(dir2):\n",
    "    os.mkdir(dir2)"
   ]
  },
  {
   "cell_type": "code",
   "execution_count": 104,
   "metadata": {},
   "outputs": [],
   "source": [
    "open_list = []\n",
    "came_from = {}\n",
    "closed_set = set()\n",
    "F = init_cost_table(BOARD_SIZE, XY_WALLS)\n",
    "\n",
    "iteration = 0\n",
    "heapq.heappush(open_list, (0.0, XY_INITIAL))\n",
    "xy = XY_INITIAL\n",
    "while len(open_list) > 0:\n",
    "    if xy == XY_DEST or iteration > MAX_ITER: \n",
    "        break\n",
    "    xy_previous = copy.copy(xy)\n",
    "    cost, xy = heapq.heappop(open_list)\n",
    "    neighbors = get_neighbors(xy, DIRECTION_MOVES, closed_set)\n",
    "    closed_set.add(xy)\n",
    "    actual_neighbors = update_cost_table(F, neighbors, xy, XY_DEST)\n",
    "    for neighbor in actual_neighbors:\n",
    "        _, neighbor_xy = neighbor\n",
    "        came_from[neighbor_xy] = xy  # Set the predecessor of neighbor_xy as xy\n",
    "        heapq.heappush(open_list, neighbor)  # Add the neighbor to the open list\n",
    "\n",
    "    \n",
    "    # just for plotting \n",
    "    sns.heatmap(F, annot=True)\n",
    "    agent = patches.Circle((xy[1]+0.5, xy[0]+0.5), radius=0.2, color='red', fill='red', alpha=0.6) \n",
    "    dst = patches.Circle((XY_DEST[1]+0.5, XY_DEST[0]+0.5), radius=0.2, color='blue', fill='blue', alpha=0.6) \n",
    "    plt.gca().add_patch(agent)\n",
    "    plt.gca().add_patch(dst)\n",
    "\n",
    "    plt.savefig(f\"{dir1}/frame_{iteration:04d}.png\")\n",
    "    plt.close()  # Close the plot to free memory\n",
    "    iteration += 1"
   ]
  },
  {
   "cell_type": "code",
   "execution_count": 105,
   "metadata": {},
   "outputs": [
    {
     "data": {
      "text/plain": [
       "CompletedProcess(args=['ffmpeg', '-framerate', '10', '-i', './tmp/A-star_searching/frame_%04d.png', '-c:v', 'libx264', '-profile:v', 'high', '-crf', '20', '-pix_fmt', 'yuv420p', 'path_finding_animation.mp4'], returncode=0)"
      ]
     },
     "execution_count": 105,
     "metadata": {},
     "output_type": "execute_result"
    }
   ],
   "source": [
    "out_dir = 'path_finding_animation.mp4'\n",
    "if os.path.exists(out_dir):\n",
    "    os.remove(out_dir)\n",
    "    \n",
    "subprocess.run([\n",
    "    'ffmpeg',\n",
    "    '-framerate', '10',\n",
    "    '-i', f'{dir1}/frame_%04d.png',\n",
    "    '-c:v', 'libx264',\n",
    "    '-profile:v', 'high',\n",
    "    '-crf', '20',\n",
    "    '-pix_fmt', 'yuv420p',\n",
    "    out_dir\n",
    "])"
   ]
  },
  {
   "cell_type": "code",
   "execution_count": 106,
   "metadata": {},
   "outputs": [
    {
     "name": "stdout",
     "output_type": "stream",
     "text": [
      "(3, 4)\n",
      "(4, 4)\n",
      "(5, 4)\n",
      "(5, 5)\n",
      "(5, 6)\n",
      "(4, 6)\n",
      "(3, 6)\n",
      "(2, 6)\n",
      "(2, 5)\n",
      "(1, 5)\n",
      "(1, 4)\n",
      "(0, 4)\n",
      "(0, 3)\n",
      "(0, 2)\n",
      "(0, 1)\n"
     ]
    }
   ],
   "source": [
    "def reconstruct_path(came_from, start, destination):\n",
    "    current = destination\n",
    "    path = []\n",
    "    while current != start:\n",
    "        path.append(current)\n",
    "        print(current)\n",
    "        current = came_from.get(current)\n",
    "        if current is None:  # Safety check\n",
    "            return []\n",
    "    path.append(start)  # optional, include the start in the path\n",
    "    path.reverse()  # because we built it backwards\n",
    "    return path\n",
    "\n",
    "path = reconstruct_path(came_from, XY_INITIAL, XY_DEST)"
   ]
  },
  {
   "cell_type": "code",
   "execution_count": 107,
   "metadata": {},
   "outputs": [],
   "source": [
    "x_coords, y_coords = zip(*[(y+0.5, x+0.5) for x, y in path])  # Note the adjustment for heatmap indexing\n",
    "\n",
    "for iteration, (x, y) in enumerate(path):\n",
    "    sns.heatmap(F, annot=True)\n",
    "    agent = patches.Circle((y+0.5, x+0.5), radius=0.2, color='red', fill='red', alpha=0.6) \n",
    "    dst = patches.Circle((XY_DEST[1]+0.5, XY_DEST[0]+0.5), radius=0.2, color='blue', fill='blue', alpha=0.6) \n",
    "    plt.gca().add_patch(agent)\n",
    "    plt.gca().add_patch(dst)\n",
    "\n",
    "    plt.plot(x_coords[:iteration], y_coords[:iteration], color=\"yellow\", linewidth=2)\n",
    "    plt.savefig(f\"{dir2}/frame_{iteration:04d}.png\")\n",
    "    plt.close()  # Close the plot to free memory"
   ]
  },
  {
   "cell_type": "code",
   "execution_count": 108,
   "metadata": {},
   "outputs": [
    {
     "data": {
      "text/plain": [
       "CompletedProcess(args=['ffmpeg', '-framerate', '10', '-i', './tmp/A-star_path_reconstructing/frame_%04d.png', '-c:v', 'libx264', '-profile:v', 'high', '-crf', '20', '-pix_fmt', 'yuv420p', 'path_reconstruction_animation.mp4'], returncode=0)"
      ]
     },
     "execution_count": 108,
     "metadata": {},
     "output_type": "execute_result"
    }
   ],
   "source": [
    "out_dir = 'path_reconstruction_animation.mp4'\n",
    "if os.path.exists(out_dir):\n",
    "    os.remove(out_dir)\n",
    "    \n",
    "subprocess.run([\n",
    "    'ffmpeg',\n",
    "    '-framerate', '10',\n",
    "    '-i', f'{dir2}/frame_%04d.png',\n",
    "    '-c:v', 'libx264',\n",
    "    '-profile:v', 'high',\n",
    "    '-crf', '20',\n",
    "    '-pix_fmt', 'yuv420p',\n",
    "    out_dir\n",
    "])"
   ]
  }
 ],
 "metadata": {
  "kernelspec": {
   "display_name": "tflab",
   "language": "python",
   "name": "python3"
  },
  "language_info": {
   "codemirror_mode": {
    "name": "ipython",
    "version": 3
   },
   "file_extension": ".py",
   "mimetype": "text/x-python",
   "name": "python",
   "nbconvert_exporter": "python",
   "pygments_lexer": "ipython3",
   "version": "3.10.13"
  }
 },
 "nbformat": 4,
 "nbformat_minor": 2
}
